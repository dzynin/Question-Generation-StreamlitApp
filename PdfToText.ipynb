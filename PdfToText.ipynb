{
 "cells": [
  {
   "cell_type": "code",
   "execution_count": 1,
   "metadata": {},
   "outputs": [],
   "source": [
    "!pip install --quiet pymupdf"
   ]
  },
  {
   "cell_type": "code",
   "execution_count": 24,
   "metadata": {},
   "outputs": [],
   "source": [
    "import fitz\n",
    "import re\n",
    "file = fitz.open(\"Applied AI for 9th Graders_Final v1 .pdf\")\n",
    "\n",
    "\n",
    "for page in file.pages(6, 35):\n",
    "    text = page.getText()\n",
    "    text = re.sub(r\"(PAGE\\s\\d+)|(^©DeepSphere.AI.*)|(.*\\?\\s?)|(Unit-\\d+.*)\",\"\",text)\n",
    "    text = re.sub(r\"©DeepSphere.AI, Inc.| Confidential and Proprietary|DeepSphere.AI | DsSchoolOfAI.Com | Info@DeepSphere.AI\",\"\",text)\n",
    "    with open(\"pymu_content.txt\", \"a\",encoding=\"utf-8\") as f:\n",
    "        f.writelines(text)\n",
    "file.close()\n",
    "\n",
    "with open('pymu_content.txt','r+',encoding=\"utf-8\") as f:\n",
    "    for line in f:\n",
    "        if not line.isspace():\n",
    "            f.write(line)"
   ]
  },
  {
   "cell_type": "code",
   "execution_count": null,
   "metadata": {},
   "outputs": [],
   "source": []
  }
 ],
 "metadata": {
  "kernelspec": {
   "display_name": "Python 3",
   "language": "python",
   "name": "python3"
  },
  "language_info": {
   "codemirror_mode": {
    "name": "ipython",
    "version": 3
   },
   "file_extension": ".py",
   "mimetype": "text/x-python",
   "name": "python",
   "nbconvert_exporter": "python",
   "pygments_lexer": "ipython3",
   "version": "3.7.4"
  }
 },
 "nbformat": 4,
 "nbformat_minor": 2
}
